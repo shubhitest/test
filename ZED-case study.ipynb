{
 "cells": [
  {
   "cell_type": "code",
   "execution_count": 2,
   "id": "23e29c48",
   "metadata": {},
   "outputs": [
    {
     "name": "stderr",
     "output_type": "stream",
     "text": [
      "11/11/2024 04:50:39 AM \u001b[92m Obtained utoken email from file \u001b[0m\n",
      "11/11/2024 04:50:39 AM \u001b[92m Obtained utoken from utoken cli \u001b[0m\n",
      "11/11/2024 04:50:39 AM \u001b[93m Could not obtain utoken from cli: b'/bin/sh: 1: usso: not found\\n'\n",
      "Trying to obtain from file \u001b[0m\n",
      "11/11/2024 04:50:39 AM \u001b[92m Obtained utoken for user \u001b[0m\n"
     ]
    }
   ],
   "source": [
    "#queryrunner \n",
    "from queryrunner_client import Client\n",
    "from queryrunner_client import QueryRunnerException\n",
    "#from queryrunner_client import start_adhoc\n",
    "import pandas as pd\n",
    "import numpy as np\n",
    "import plotly as py\n",
    "import json\n",
    "import pandas as pd\n",
    "import plotly.graph_objects as go\n",
    "\n",
    "from querybuilder_client import QuerybuilderClient\n",
    "import matplotlib.pyplot as plt"
   ]
  },
  {
   "cell_type": "code",
   "execution_count": 3,
   "id": "33d6fe9b",
   "metadata": {},
   "outputs": [],
   "source": [
    "##pip install pandas openpyxl\n",
    "file_path = 'zed_RD.xlsx'"
   ]
  },
  {
   "cell_type": "code",
   "execution_count": 4,
   "id": "39089f43",
   "metadata": {},
   "outputs": [
    {
     "name": "stdout",
     "output_type": "stream",
     "text": [
      "['journey_data', 'Cancelation Reasons', 'Journey Type', 'Journey Status']\n"
     ]
    }
   ],
   "source": [
    "xls = pd.ExcelFile(file_path)\n",
    "print(xls.sheet_names)\n"
   ]
  },
  {
   "cell_type": "code",
   "execution_count": 5,
   "id": "2e36fccd",
   "metadata": {},
   "outputs": [],
   "source": [
    "journey_data = pd.read_excel(xls, sheet_name='journey_data')\n",
    "cancelation_reasons = pd.read_excel(xls, sheet_name='Cancelation Reasons')\n",
    "journey_type = pd.read_excel(xls, sheet_name='Journey Type')\n",
    "journey_status = pd.read_excel(xls, sheet_name='Journey Status')"
   ]
  },
  {
   "cell_type": "code",
   "execution_count": 6,
   "id": "cb4c1d33",
   "metadata": {},
   "outputs": [
    {
     "data": {
      "text/html": [
       "<div>\n",
       "<style scoped>\n",
       "    .dataframe tbody tr th:only-of-type {\n",
       "        vertical-align: middle;\n",
       "    }\n",
       "\n",
       "    .dataframe tbody tr th {\n",
       "        vertical-align: top;\n",
       "    }\n",
       "\n",
       "    .dataframe thead th {\n",
       "        text-align: right;\n",
       "    }\n",
       "</style>\n",
       "<table border=\"1\" class=\"dataframe\">\n",
       "  <thead>\n",
       "    <tr style=\"text-align: right;\">\n",
       "      <th></th>\n",
       "      <th>_id</th>\n",
       "      <th>modes</th>\n",
       "      <th>notes</th>\n",
       "      <th>actual</th>\n",
       "      <th>maxtry</th>\n",
       "      <th>payment</th>\n",
       "      <th>estimate</th>\n",
       "      <th>createdat</th>\n",
       "      <th>journeyid</th>\n",
       "      <th>updatedat</th>\n",
       "      <th>...</th>\n",
       "      <th>rejecteddrivers</th>\n",
       "      <th>drivermodessetup</th>\n",
       "      <th>reftransactionid</th>\n",
       "      <th>driveraddonssetup</th>\n",
       "      <th>indispatchdrivers</th>\n",
       "      <th>_ab_cdc_deleted_at</th>\n",
       "      <th>_ab_cdc_updated_at</th>\n",
       "      <th>vehiclecategorytype</th>\n",
       "      <th>refvehiclecategoryid</th>\n",
       "      <th>considereddispatchdrivers</th>\n",
       "    </tr>\n",
       "  </thead>\n",
       "  <tbody>\n",
       "    <tr>\n",
       "      <th>0</th>\n",
       "      <td>668af74fd6aa19ab0d2faf9b</td>\n",
       "      <td>{\"refModeId\":\"65d4ba07d30d222a7c7921b5\",\"modeT...</td>\n",
       "      <td>NaN</td>\n",
       "      <td>{\"route\":\"[{\\\"lng\\\":55.3855037,\\\"lat\\\":25.0847...</td>\n",
       "      <td>3</td>\n",
       "      <td>{\"refCardId\":null,\"mode\":1,\"_id\":\"668af74fd6aa...</td>\n",
       "      <td>{\"route\":\"[{\\\"lat\\\":25.08553,\\\"lng\\\":55.38554}...</td>\n",
       "      <td>2024-07-07T20:15:11.732Z</td>\n",
       "      <td>SDGNFXEX99851</td>\n",
       "      <td>2024-08-02T09:02:09.172Z</td>\n",
       "      <td>...</td>\n",
       "      <td>[]</td>\n",
       "      <td>True</td>\n",
       "      <td>NaN</td>\n",
       "      <td>True</td>\n",
       "      <td>[{\"refDriverId\":\"65fd375806c53d6b843a233c\",\"la...</td>\n",
       "      <td>NaN</td>\n",
       "      <td>2024-09-25T08:06:18Z</td>\n",
       "      <td>1</td>\n",
       "      <td>65d4bce6d30d222a7c7921bc</td>\n",
       "      <td>NaN</td>\n",
       "    </tr>\n",
       "    <tr>\n",
       "      <th>1</th>\n",
       "      <td>66953704d3606d4c9172ed39</td>\n",
       "      <td>{\"refModeId\":\"65d4ba07d30d222a7c7921b4\",\"modeT...</td>\n",
       "      <td>NaN</td>\n",
       "      <td>{\"fare\":{\"totalPreTripWaitCharge\":0,\"totalCanc...</td>\n",
       "      <td>3</td>\n",
       "      <td>{\"refCardId\":\"669536d58ecb1306c22b61c9\",\"mode\"...</td>\n",
       "      <td>{\"route\":\"[{\\\"lat\\\":25.22471,\\\"lng\\\":55.44027}...</td>\n",
       "      <td>2024-07-15T14:49:40.070Z</td>\n",
       "      <td>SQWKLKMC44190</td>\n",
       "      <td>2024-07-28T07:02:14.191Z</td>\n",
       "      <td>...</td>\n",
       "      <td>[]</td>\n",
       "      <td>False</td>\n",
       "      <td>NaN</td>\n",
       "      <td>False</td>\n",
       "      <td>[]</td>\n",
       "      <td>NaN</td>\n",
       "      <td>2024-09-25T08:06:18Z</td>\n",
       "      <td>1</td>\n",
       "      <td>65d4bce6d30d222a7c7921bd</td>\n",
       "      <td>NaN</td>\n",
       "    </tr>\n",
       "    <tr>\n",
       "      <th>2</th>\n",
       "      <td>669822c11472774445121acb</td>\n",
       "      <td>{\"refModeId\":\"65d4ba07d30d222a7c7921b6\",\"modeT...</td>\n",
       "      <td>NaN</td>\n",
       "      <td>{\"fare\":{\"totalCancellationFee\":0,\"base\":0,\"mi...</td>\n",
       "      <td>3</td>\n",
       "      <td>{\"refCardId\":null,\"mode\":1,\"_id\":\"669822c11472...</td>\n",
       "      <td>{\"route\":\"[{\\\"lat\\\":25.23131,\\\"lng\\\":55.28292}...</td>\n",
       "      <td>2024-07-17T20:00:01.250Z</td>\n",
       "      <td>SDJWYZRH82586</td>\n",
       "      <td>2024-07-28T10:34:36.931Z</td>\n",
       "      <td>...</td>\n",
       "      <td>[]</td>\n",
       "      <td>False</td>\n",
       "      <td>NaN</td>\n",
       "      <td>False</td>\n",
       "      <td>[]</td>\n",
       "      <td>NaN</td>\n",
       "      <td>2024-09-25T08:06:18Z</td>\n",
       "      <td>1</td>\n",
       "      <td>65d4bce6d30d222a7c7921bc</td>\n",
       "      <td>NaN</td>\n",
       "    </tr>\n",
       "    <tr>\n",
       "      <th>3</th>\n",
       "      <td>669c174014727744451dc9a2</td>\n",
       "      <td>{\"refModeId\":\"65d4ba07d30d222a7c7921b4\",\"modeT...</td>\n",
       "      <td>NaN</td>\n",
       "      <td>{\"fare\":{\"totalCancellationFee\":0,\"base\":0,\"mi...</td>\n",
       "      <td>3</td>\n",
       "      <td>{\"refCardId\":\"667cba14a5438a20d85216cc\",\"mode\"...</td>\n",
       "      <td>{\"route\":\"[{\\\"lat\\\":25.27073,\\\"lng\\\":55.30922}...</td>\n",
       "      <td>2024-07-20T20:00:00.726Z</td>\n",
       "      <td>SZGJSIBT71606</td>\n",
       "      <td>2024-07-27T04:44:20.678Z</td>\n",
       "      <td>...</td>\n",
       "      <td>[]</td>\n",
       "      <td>False</td>\n",
       "      <td>NaN</td>\n",
       "      <td>False</td>\n",
       "      <td>[]</td>\n",
       "      <td>NaN</td>\n",
       "      <td>2024-09-25T08:06:18Z</td>\n",
       "      <td>1</td>\n",
       "      <td>65d4bce6d30d222a7c7921bc</td>\n",
       "      <td>NaN</td>\n",
       "    </tr>\n",
       "  </tbody>\n",
       "</table>\n",
       "<p>4 rows × 42 columns</p>\n",
       "</div>"
      ],
      "text/plain": [
       "                        _id  \\\n",
       "0  668af74fd6aa19ab0d2faf9b   \n",
       "1  66953704d3606d4c9172ed39   \n",
       "2  669822c11472774445121acb   \n",
       "3  669c174014727744451dc9a2   \n",
       "\n",
       "                                               modes notes  \\\n",
       "0  {\"refModeId\":\"65d4ba07d30d222a7c7921b5\",\"modeT...   NaN   \n",
       "1  {\"refModeId\":\"65d4ba07d30d222a7c7921b4\",\"modeT...   NaN   \n",
       "2  {\"refModeId\":\"65d4ba07d30d222a7c7921b6\",\"modeT...   NaN   \n",
       "3  {\"refModeId\":\"65d4ba07d30d222a7c7921b4\",\"modeT...   NaN   \n",
       "\n",
       "                                              actual  maxtry  \\\n",
       "0  {\"route\":\"[{\\\"lng\\\":55.3855037,\\\"lat\\\":25.0847...       3   \n",
       "1  {\"fare\":{\"totalPreTripWaitCharge\":0,\"totalCanc...       3   \n",
       "2  {\"fare\":{\"totalCancellationFee\":0,\"base\":0,\"mi...       3   \n",
       "3  {\"fare\":{\"totalCancellationFee\":0,\"base\":0,\"mi...       3   \n",
       "\n",
       "                                             payment  \\\n",
       "0  {\"refCardId\":null,\"mode\":1,\"_id\":\"668af74fd6aa...   \n",
       "1  {\"refCardId\":\"669536d58ecb1306c22b61c9\",\"mode\"...   \n",
       "2  {\"refCardId\":null,\"mode\":1,\"_id\":\"669822c11472...   \n",
       "3  {\"refCardId\":\"667cba14a5438a20d85216cc\",\"mode\"...   \n",
       "\n",
       "                                            estimate  \\\n",
       "0  {\"route\":\"[{\\\"lat\\\":25.08553,\\\"lng\\\":55.38554}...   \n",
       "1  {\"route\":\"[{\\\"lat\\\":25.22471,\\\"lng\\\":55.44027}...   \n",
       "2  {\"route\":\"[{\\\"lat\\\":25.23131,\\\"lng\\\":55.28292}...   \n",
       "3  {\"route\":\"[{\\\"lat\\\":25.27073,\\\"lng\\\":55.30922}...   \n",
       "\n",
       "                  createdat      journeyid                 updatedat  ...  \\\n",
       "0  2024-07-07T20:15:11.732Z  SDGNFXEX99851  2024-08-02T09:02:09.172Z  ...   \n",
       "1  2024-07-15T14:49:40.070Z  SQWKLKMC44190  2024-07-28T07:02:14.191Z  ...   \n",
       "2  2024-07-17T20:00:01.250Z  SDJWYZRH82586  2024-07-28T10:34:36.931Z  ...   \n",
       "3  2024-07-20T20:00:00.726Z  SZGJSIBT71606  2024-07-27T04:44:20.678Z  ...   \n",
       "\n",
       "   rejecteddrivers drivermodessetup reftransactionid driveraddonssetup  \\\n",
       "0               []             True              NaN              True   \n",
       "1               []            False              NaN             False   \n",
       "2               []            False              NaN             False   \n",
       "3               []            False              NaN             False   \n",
       "\n",
       "                                   indispatchdrivers _ab_cdc_deleted_at  \\\n",
       "0  [{\"refDriverId\":\"65fd375806c53d6b843a233c\",\"la...                NaN   \n",
       "1                                                 []                NaN   \n",
       "2                                                 []                NaN   \n",
       "3                                                 []                NaN   \n",
       "\n",
       "     _ab_cdc_updated_at vehiclecategorytype      refvehiclecategoryid  \\\n",
       "0  2024-09-25T08:06:18Z                   1  65d4bce6d30d222a7c7921bc   \n",
       "1  2024-09-25T08:06:18Z                   1  65d4bce6d30d222a7c7921bd   \n",
       "2  2024-09-25T08:06:18Z                   1  65d4bce6d30d222a7c7921bc   \n",
       "3  2024-09-25T08:06:18Z                   1  65d4bce6d30d222a7c7921bc   \n",
       "\n",
       "  considereddispatchdrivers  \n",
       "0                       NaN  \n",
       "1                       NaN  \n",
       "2                       NaN  \n",
       "3                       NaN  \n",
       "\n",
       "[4 rows x 42 columns]"
      ]
     },
     "execution_count": 6,
     "metadata": {},
     "output_type": "execute_result"
    }
   ],
   "source": [
    "journey_data.head(4)"
   ]
  },
  {
   "cell_type": "code",
   "execution_count": 7,
   "id": "95b7cd3c",
   "metadata": {},
   "outputs": [
    {
     "data": {
      "text/html": [
       "<div>\n",
       "<style scoped>\n",
       "    .dataframe tbody tr th:only-of-type {\n",
       "        vertical-align: middle;\n",
       "    }\n",
       "\n",
       "    .dataframe tbody tr th {\n",
       "        vertical-align: top;\n",
       "    }\n",
       "\n",
       "    .dataframe thead th {\n",
       "        text-align: right;\n",
       "    }\n",
       "</style>\n",
       "<table border=\"1\" class=\"dataframe\">\n",
       "  <thead>\n",
       "    <tr style=\"text-align: right;\">\n",
       "      <th></th>\n",
       "      <th>App</th>\n",
       "      <th>Journey Type</th>\n",
       "      <th>Journey Status</th>\n",
       "      <th>Reason</th>\n",
       "      <th>Reason ID</th>\n",
       "    </tr>\n",
       "  </thead>\n",
       "  <tbody>\n",
       "    <tr>\n",
       "      <th>0</th>\n",
       "      <td>Customer</td>\n",
       "      <td>On Demand</td>\n",
       "      <td>Booking</td>\n",
       "      <td>My plans changed</td>\n",
       "      <td>653aad1f669135b5f3e6507b</td>\n",
       "    </tr>\n",
       "    <tr>\n",
       "      <th>1</th>\n",
       "      <td>Customer</td>\n",
       "      <td>On Demand</td>\n",
       "      <td>Booking</td>\n",
       "      <td>Need to change pick-up or drop-off</td>\n",
       "      <td>653aad1f669135b5f3e6507c</td>\n",
       "    </tr>\n",
       "    <tr>\n",
       "      <th>2</th>\n",
       "      <td>Customer</td>\n",
       "      <td>On Demand</td>\n",
       "      <td>Booking</td>\n",
       "      <td>Need to add stops</td>\n",
       "      <td>653aad1f669135b5f3e6507d</td>\n",
       "    </tr>\n",
       "    <tr>\n",
       "      <th>3</th>\n",
       "      <td>Customer</td>\n",
       "      <td>On Demand</td>\n",
       "      <td>Booking</td>\n",
       "      <td>Wanted to change car category</td>\n",
       "      <td>653aad1f669135b5f3e6507e</td>\n",
       "    </tr>\n",
       "  </tbody>\n",
       "</table>\n",
       "</div>"
      ],
      "text/plain": [
       "        App Journey Type Journey Status                              Reason  \\\n",
       "0  Customer    On Demand        Booking                    My plans changed   \n",
       "1  Customer    On Demand        Booking  Need to change pick-up or drop-off   \n",
       "2  Customer    On Demand        Booking                   Need to add stops   \n",
       "3  Customer    On Demand        Booking       Wanted to change car category   \n",
       "\n",
       "                  Reason ID  \n",
       "0  653aad1f669135b5f3e6507b  \n",
       "1  653aad1f669135b5f3e6507c  \n",
       "2  653aad1f669135b5f3e6507d  \n",
       "3  653aad1f669135b5f3e6507e  "
      ]
     },
     "execution_count": 7,
     "metadata": {},
     "output_type": "execute_result"
    }
   ],
   "source": [
    "cancelation_reasons.head(4)"
   ]
  },
  {
   "cell_type": "code",
   "execution_count": 8,
   "id": "0d4d55c8",
   "metadata": {},
   "outputs": [
    {
     "data": {
      "text/html": [
       "<div>\n",
       "<style scoped>\n",
       "    .dataframe tbody tr th:only-of-type {\n",
       "        vertical-align: middle;\n",
       "    }\n",
       "\n",
       "    .dataframe tbody tr th {\n",
       "        vertical-align: top;\n",
       "    }\n",
       "\n",
       "    .dataframe thead th {\n",
       "        text-align: right;\n",
       "    }\n",
       "</style>\n",
       "<table border=\"1\" class=\"dataframe\">\n",
       "  <thead>\n",
       "    <tr style=\"text-align: right;\">\n",
       "      <th></th>\n",
       "      <th>Type</th>\n",
       "      <th>Value</th>\n",
       "    </tr>\n",
       "  </thead>\n",
       "  <tbody>\n",
       "    <tr>\n",
       "      <th>0</th>\n",
       "      <td>On Demand</td>\n",
       "      <td>1</td>\n",
       "    </tr>\n",
       "    <tr>\n",
       "      <th>1</th>\n",
       "      <td>Scheduled</td>\n",
       "      <td>2</td>\n",
       "    </tr>\n",
       "  </tbody>\n",
       "</table>\n",
       "</div>"
      ],
      "text/plain": [
       "        Type  Value\n",
       "0  On Demand      1\n",
       "1  Scheduled      2"
      ]
     },
     "execution_count": 8,
     "metadata": {},
     "output_type": "execute_result"
    }
   ],
   "source": [
    "journey_type.head(4)"
   ]
  },
  {
   "cell_type": "code",
   "execution_count": 9,
   "id": "2635f5c8",
   "metadata": {},
   "outputs": [
    {
     "data": {
      "text/html": [
       "<div>\n",
       "<style scoped>\n",
       "    .dataframe tbody tr th:only-of-type {\n",
       "        vertical-align: middle;\n",
       "    }\n",
       "\n",
       "    .dataframe tbody tr th {\n",
       "        vertical-align: top;\n",
       "    }\n",
       "\n",
       "    .dataframe thead th {\n",
       "        text-align: right;\n",
       "    }\n",
       "</style>\n",
       "<table border=\"1\" class=\"dataframe\">\n",
       "  <thead>\n",
       "    <tr style=\"text-align: right;\">\n",
       "      <th></th>\n",
       "      <th>JOURNEY STATUS</th>\n",
       "      <th>VALUE</th>\n",
       "    </tr>\n",
       "  </thead>\n",
       "  <tbody>\n",
       "    <tr>\n",
       "      <th>0</th>\n",
       "      <td>BOOKED</td>\n",
       "      <td>1</td>\n",
       "    </tr>\n",
       "    <tr>\n",
       "      <th>1</th>\n",
       "      <td>DISPATCH</td>\n",
       "      <td>2</td>\n",
       "    </tr>\n",
       "    <tr>\n",
       "      <th>2</th>\n",
       "      <td>ACCEPTED</td>\n",
       "      <td>3</td>\n",
       "    </tr>\n",
       "    <tr>\n",
       "      <th>3</th>\n",
       "      <td>ON_ROUTE</td>\n",
       "      <td>4</td>\n",
       "    </tr>\n",
       "  </tbody>\n",
       "</table>\n",
       "</div>"
      ],
      "text/plain": [
       "  JOURNEY STATUS  VALUE\n",
       "0         BOOKED      1\n",
       "1       DISPATCH      2\n",
       "2       ACCEPTED      3\n",
       "3       ON_ROUTE      4"
      ]
     },
     "execution_count": 9,
     "metadata": {},
     "output_type": "execute_result"
    }
   ],
   "source": [
    "journey_status.head(4)"
   ]
  },
  {
   "cell_type": "markdown",
   "id": "93d37cfa",
   "metadata": {},
   "source": [
    "## What are the top 5 cancellation reasons. Based on your understanding, how many journey cancellations are customer initiated and how many are driver initiated"
   ]
  },
  {
   "cell_type": "markdown",
   "id": "1dda5e2b",
   "metadata": {},
   "source": [
    "***Assume journeyid as a unique identifier for dispatches"
   ]
  },
  {
   "cell_type": "code",
   "execution_count": 10,
   "id": "62a898ab",
   "metadata": {
    "scrolled": true
   },
   "outputs": [
    {
     "data": {
      "text/plain": [
       "Index(['_id', 'modes', 'notes', 'actual', 'maxtry', 'payment', 'estimate',\n",
       "       'createdat', 'journeyid', 'updatedat', 'currenttry', 'pickuptime',\n",
       "       'refguestid', 'tippayment', 'journeytype', 'refdriverid', 'refrhythmid',\n",
       "       'reportissue', 'cancelreason', 'driverrating', 'refvehicleid',\n",
       "       'dispatchtries', 'journeyevents', 'journeystatus', 'refcustomerid',\n",
       "       '_ab_cdc_cursor', 'customerrating', 'pickuplatitude', 'pickuplocation',\n",
       "       'dropofflocation', 'pickuplongitude', 'refpromoapplied',\n",
       "       'rejecteddrivers', 'drivermodessetup', 'reftransactionid',\n",
       "       'driveraddonssetup', 'indispatchdrivers', '_ab_cdc_deleted_at',\n",
       "       '_ab_cdc_updated_at', 'vehiclecategorytype', 'refvehiclecategoryid',\n",
       "       'considereddispatchdrivers'],\n",
       "      dtype='object')"
      ]
     },
     "execution_count": 10,
     "metadata": {},
     "output_type": "execute_result"
    }
   ],
   "source": [
    "journey_data.columns"
   ]
  },
  {
   "cell_type": "code",
   "execution_count": 69,
   "id": "0638e484",
   "metadata": {},
   "outputs": [],
   "source": [
    "final = pd.merge(journey_data, journey_status, left_on='journeystatus', right_on='VALUE', how='left')"
   ]
  },
  {
   "cell_type": "code",
   "execution_count": 70,
   "id": "322e5fce-55d8-4f9f-adb7-80d1e8321714",
   "metadata": {},
   "outputs": [
    {
     "data": {
      "text/plain": [
       "array(['\\xa0 PAYMENT_RECEIVED', '\\xa0 USER_CANCELLED',\n",
       "       '\\xa0 ADMIN_CANCELLED', '\\xa0 DRIVER_CANCELLED',\n",
       "       '\\xa0 ZED_CANCELLED'], dtype=object)"
      ]
     },
     "execution_count": 70,
     "metadata": {},
     "output_type": "execute_result"
    }
   ],
   "source": [
    "final['JOURNEY STATUS'].unique()"
   ]
  },
  {
   "cell_type": "code",
   "execution_count": 71,
   "id": "0dbd70b3-5e62-4c25-983f-b69b38ef39a4",
   "metadata": {},
   "outputs": [
    {
     "data": {
      "text/plain": [
       "0                                                  NaN\n",
       "1    {\"refCancelReasonId\":\"653ab034022be070f7777a09...\n",
       "2                                                  NaN\n",
       "3                                                  NaN\n",
       "4                                                  NaN\n",
       "Name: cancelreason, dtype: object"
      ]
     },
     "execution_count": 71,
     "metadata": {},
     "output_type": "execute_result"
    }
   ],
   "source": [
    "final['cancelreason'].head()"
   ]
  },
  {
   "cell_type": "code",
   "execution_count": 13,
   "id": "4c9eedb6",
   "metadata": {},
   "outputs": [],
   "source": [
    "final['refCancelReasonId'] = final['cancelreason'].apply(\n",
    "    lambda x: json.loads(x)['refCancelReasonId'] if pd.notna(x) and isinstance(x, str) else None\n",
    ")\n"
   ]
  },
  {
   "cell_type": "code",
   "execution_count": 14,
   "id": "69c4b743",
   "metadata": {},
   "outputs": [
    {
     "data": {
      "text/plain": [
       "0                          None\n",
       "1      653ab034022be070f7777a09\n",
       "2                          None\n",
       "3                          None\n",
       "4                          None\n",
       "                 ...           \n",
       "942                        None\n",
       "943                        None\n",
       "944                        None\n",
       "945                        None\n",
       "946                        None\n",
       "Name: refCancelReasonId, Length: 947, dtype: object"
      ]
     },
     "execution_count": 14,
     "metadata": {},
     "output_type": "execute_result"
    }
   ],
   "source": [
    "final['refCancelReasonId']"
   ]
  },
  {
   "cell_type": "code",
   "execution_count": 15,
   "id": "f54aa48c",
   "metadata": {},
   "outputs": [],
   "source": [
    "final['JOURNEY STATUS'] = final['JOURNEY STATUS'].str.strip()\n",
    "values_to_filter = ['USER_CANCELLED','DRIVER_CANCELLED']\n",
    "final = final[final['JOURNEY STATUS'].isin(values_to_filter)]"
   ]
  },
  {
   "cell_type": "code",
   "execution_count": 16,
   "id": "dac42534",
   "metadata": {},
   "outputs": [
    {
     "data": {
      "text/html": [
       "<div>\n",
       "<style scoped>\n",
       "    .dataframe tbody tr th:only-of-type {\n",
       "        vertical-align: middle;\n",
       "    }\n",
       "\n",
       "    .dataframe tbody tr th {\n",
       "        vertical-align: top;\n",
       "    }\n",
       "\n",
       "    .dataframe thead th {\n",
       "        text-align: right;\n",
       "    }\n",
       "</style>\n",
       "<table border=\"1\" class=\"dataframe\">\n",
       "  <thead>\n",
       "    <tr style=\"text-align: right;\">\n",
       "      <th></th>\n",
       "      <th>JOURNEY STATUS</th>\n",
       "      <th>trips</th>\n",
       "    </tr>\n",
       "  </thead>\n",
       "  <tbody>\n",
       "    <tr>\n",
       "      <th>0</th>\n",
       "      <td>DRIVER_CANCELLED</td>\n",
       "      <td>37</td>\n",
       "    </tr>\n",
       "    <tr>\n",
       "      <th>1</th>\n",
       "      <td>USER_CANCELLED</td>\n",
       "      <td>282</td>\n",
       "    </tr>\n",
       "  </tbody>\n",
       "</table>\n",
       "</div>"
      ],
      "text/plain": [
       "     JOURNEY STATUS  trips\n",
       "0  DRIVER_CANCELLED     37\n",
       "1    USER_CANCELLED    282"
      ]
     },
     "execution_count": 16,
     "metadata": {},
     "output_type": "execute_result"
    }
   ],
   "source": [
    "final.groupby('JOURNEY STATUS')['journeyid'].nunique().reset_index(name='trips')\n"
   ]
  },
  {
   "cell_type": "code",
   "execution_count": 17,
   "id": "6292d836",
   "metadata": {},
   "outputs": [],
   "source": [
    "final = pd.merge(final, cancelation_reasons, left_on='refCancelReasonId', right_on='Reason ID', how='left')"
   ]
  },
  {
   "cell_type": "code",
   "execution_count": 18,
   "id": "e685da8d",
   "metadata": {},
   "outputs": [],
   "source": [
    "final['Reason'] = final['Reason'].fillna('Data not available')\n",
    "final['Reason'] = final['Reason'].replace('', 'Data not available')\n"
   ]
  },
  {
   "cell_type": "code",
   "execution_count": 19,
   "id": "e94576c0",
   "metadata": {},
   "outputs": [],
   "source": [
    "result = final.groupby(['JOURNEY STATUS', 'Reason'])['journeyid'].nunique().reset_index(name='trips')\n"
   ]
  },
  {
   "cell_type": "code",
   "execution_count": 20,
   "id": "48858169",
   "metadata": {},
   "outputs": [],
   "source": [
    "result = result.sort_values(by=['JOURNEY STATUS', 'trips'], ascending=[True, False])\n"
   ]
  },
  {
   "cell_type": "code",
   "execution_count": 21,
   "id": "121d5c1f",
   "metadata": {},
   "outputs": [
    {
     "data": {
      "text/html": [
       "<div>\n",
       "<style scoped>\n",
       "    .dataframe tbody tr th:only-of-type {\n",
       "        vertical-align: middle;\n",
       "    }\n",
       "\n",
       "    .dataframe tbody tr th {\n",
       "        vertical-align: top;\n",
       "    }\n",
       "\n",
       "    .dataframe thead th {\n",
       "        text-align: right;\n",
       "    }\n",
       "</style>\n",
       "<table border=\"1\" class=\"dataframe\">\n",
       "  <thead>\n",
       "    <tr style=\"text-align: right;\">\n",
       "      <th></th>\n",
       "      <th>JOURNEY STATUS</th>\n",
       "      <th>Reason</th>\n",
       "      <th>trips</th>\n",
       "    </tr>\n",
       "  </thead>\n",
       "  <tbody>\n",
       "    <tr>\n",
       "      <th>0</th>\n",
       "      <td>DRIVER_CANCELLED</td>\n",
       "      <td>Data not available</td>\n",
       "      <td>37</td>\n",
       "    </tr>\n",
       "    <tr>\n",
       "      <th>12</th>\n",
       "      <td>USER_CANCELLED</td>\n",
       "      <td>ZeDriver is too far away</td>\n",
       "      <td>73</td>\n",
       "    </tr>\n",
       "    <tr>\n",
       "      <th>3</th>\n",
       "      <td>USER_CANCELLED</td>\n",
       "      <td>My plans changed</td>\n",
       "      <td>57</td>\n",
       "    </tr>\n",
       "    <tr>\n",
       "      <th>5</th>\n",
       "      <td>USER_CANCELLED</td>\n",
       "      <td>Need to change pick-up or drop-off</td>\n",
       "      <td>22</td>\n",
       "    </tr>\n",
       "    <tr>\n",
       "      <th>13</th>\n",
       "      <td>USER_CANCELLED</td>\n",
       "      <td>ZeDriver not responding</td>\n",
       "      <td>22</td>\n",
       "    </tr>\n",
       "    <tr>\n",
       "      <th>8</th>\n",
       "      <td>USER_CANCELLED</td>\n",
       "      <td>Wanted to change car category</td>\n",
       "      <td>18</td>\n",
       "    </tr>\n",
       "    <tr>\n",
       "      <th>6</th>\n",
       "      <td>USER_CANCELLED</td>\n",
       "      <td>Other</td>\n",
       "      <td>16</td>\n",
       "    </tr>\n",
       "    <tr>\n",
       "      <th>10</th>\n",
       "      <td>USER_CANCELLED</td>\n",
       "      <td>ZeDriver asked me to cancel</td>\n",
       "      <td>16</td>\n",
       "    </tr>\n",
       "    <tr>\n",
       "      <th>7</th>\n",
       "      <td>USER_CANCELLED</td>\n",
       "      <td>Taking too long to find a ZeDriver</td>\n",
       "      <td>14</td>\n",
       "    </tr>\n",
       "    <tr>\n",
       "      <th>2</th>\n",
       "      <td>USER_CANCELLED</td>\n",
       "      <td>Found a better price</td>\n",
       "      <td>13</td>\n",
       "    </tr>\n",
       "    <tr>\n",
       "      <th>9</th>\n",
       "      <td>USER_CANCELLED</td>\n",
       "      <td>ZeDriver arrived too early</td>\n",
       "      <td>10</td>\n",
       "    </tr>\n",
       "    <tr>\n",
       "      <th>11</th>\n",
       "      <td>USER_CANCELLED</td>\n",
       "      <td>ZeDriver is not getting closer</td>\n",
       "      <td>10</td>\n",
       "    </tr>\n",
       "    <tr>\n",
       "      <th>4</th>\n",
       "      <td>USER_CANCELLED</td>\n",
       "      <td>Need to add stops</td>\n",
       "      <td>6</td>\n",
       "    </tr>\n",
       "    <tr>\n",
       "      <th>1</th>\n",
       "      <td>USER_CANCELLED</td>\n",
       "      <td>Data not available</td>\n",
       "      <td>5</td>\n",
       "    </tr>\n",
       "  </tbody>\n",
       "</table>\n",
       "</div>"
      ],
      "text/plain": [
       "      JOURNEY STATUS                              Reason  trips\n",
       "0   DRIVER_CANCELLED                  Data not available     37\n",
       "12    USER_CANCELLED            ZeDriver is too far away     73\n",
       "3     USER_CANCELLED                    My plans changed     57\n",
       "5     USER_CANCELLED  Need to change pick-up or drop-off     22\n",
       "13    USER_CANCELLED             ZeDriver not responding     22\n",
       "8     USER_CANCELLED       Wanted to change car category     18\n",
       "6     USER_CANCELLED                               Other     16\n",
       "10    USER_CANCELLED         ZeDriver asked me to cancel     16\n",
       "7     USER_CANCELLED  Taking too long to find a ZeDriver     14\n",
       "2     USER_CANCELLED                Found a better price     13\n",
       "9     USER_CANCELLED          ZeDriver arrived too early     10\n",
       "11    USER_CANCELLED      ZeDriver is not getting closer     10\n",
       "4     USER_CANCELLED                   Need to add stops      6\n",
       "1     USER_CANCELLED                  Data not available      5"
      ]
     },
     "execution_count": 21,
     "metadata": {},
     "output_type": "execute_result"
    }
   ],
   "source": [
    "result.head(20)"
   ]
  },
  {
   "cell_type": "markdown",
   "id": "554ae754",
   "metadata": {},
   "source": [
    "## What are the high demand areas from customers. What is the trip completion rate of the highest and lowest demand areas. According to you, what can be the possible reason for variation of completion rate across areas, if any"
   ]
  },
  {
   "cell_type": "markdown",
   "id": "31a92de6",
   "metadata": {},
   "source": [
    "***Assume journeyid as a unique identifier for dispatches\n",
    "***Assume (lat, long) as a unique demand zone "
   ]
  },
  {
   "cell_type": "code",
   "execution_count": 22,
   "id": "b882fb01",
   "metadata": {},
   "outputs": [],
   "source": [
    "final = pd.merge(journey_data, journey_status, left_on='journeystatus', right_on='VALUE', how='left')"
   ]
  },
  {
   "cell_type": "code",
   "execution_count": 23,
   "id": "1d3c7946",
   "metadata": {},
   "outputs": [],
   "source": [
    "final['JOURNEY STATUS'] = final['JOURNEY STATUS'].str.strip()"
   ]
  },
  {
   "cell_type": "code",
   "execution_count": 24,
   "id": "f8c3d121",
   "metadata": {},
   "outputs": [
    {
     "data": {
      "text/plain": [
       "array(['PAYMENT_RECEIVED', 'USER_CANCELLED', 'ADMIN_CANCELLED',\n",
       "       'DRIVER_CANCELLED', 'ZED_CANCELLED'], dtype=object)"
      ]
     },
     "execution_count": 24,
     "metadata": {},
     "output_type": "execute_result"
    }
   ],
   "source": [
    "final['JOURNEY STATUS'].unique()"
   ]
  },
  {
   "cell_type": "code",
   "execution_count": 25,
   "id": "9b0a0068",
   "metadata": {},
   "outputs": [],
   "source": [
    "grouped = final.groupby(['pickuplatitude', 'pickuplongitude'])\n",
    "\n",
    "def calculate_metrics(group): \n",
    "    filtered_df = group[group['JOURNEY STATUS'].isin(['ADMIN_COMPLETED', 'JOURNEY_COMPLETED'])]\n",
    "    distinct_filtered_count = filtered_df['journeyid'].nunique()\n",
    "    distinct_total_count = group['journeyid'].nunique()\n",
    "    completion_rate = 1.000 * distinct_filtered_count / distinct_total_count\n",
    "    return pd.Series({\n",
    "        'completion_rate': completion_rate,\n",
    "        'distinct_journeyid_count': distinct_total_count\n",
    "    })\n",
    "\n",
    "completion_rates = grouped.apply(calculate_metrics).reset_index()\n",
    "\n",
    "\n"
   ]
  },
  {
   "cell_type": "code",
   "execution_count": 26,
   "id": "6855f770",
   "metadata": {},
   "outputs": [
    {
     "data": {
      "text/html": [
       "<div>\n",
       "<style scoped>\n",
       "    .dataframe tbody tr th:only-of-type {\n",
       "        vertical-align: middle;\n",
       "    }\n",
       "\n",
       "    .dataframe tbody tr th {\n",
       "        vertical-align: top;\n",
       "    }\n",
       "\n",
       "    .dataframe thead th {\n",
       "        text-align: right;\n",
       "    }\n",
       "</style>\n",
       "<table border=\"1\" class=\"dataframe\">\n",
       "  <thead>\n",
       "    <tr style=\"text-align: right;\">\n",
       "      <th></th>\n",
       "      <th>pickuplatitude</th>\n",
       "      <th>pickuplongitude</th>\n",
       "      <th>completion_rate</th>\n",
       "      <th>distinct_journeyid_count</th>\n",
       "    </tr>\n",
       "  </thead>\n",
       "  <tbody>\n",
       "    <tr>\n",
       "      <th>48</th>\n",
       "      <td>25.056223</td>\n",
       "      <td>55.203918</td>\n",
       "      <td>0.0</td>\n",
       "      <td>11.0</td>\n",
       "    </tr>\n",
       "    <tr>\n",
       "      <th>529</th>\n",
       "      <td>25.250399</td>\n",
       "      <td>55.300938</td>\n",
       "      <td>0.0</td>\n",
       "      <td>11.0</td>\n",
       "    </tr>\n",
       "    <tr>\n",
       "      <th>221</th>\n",
       "      <td>25.119926</td>\n",
       "      <td>55.218832</td>\n",
       "      <td>0.0</td>\n",
       "      <td>10.0</td>\n",
       "    </tr>\n",
       "    <tr>\n",
       "      <th>315</th>\n",
       "      <td>25.185928</td>\n",
       "      <td>55.283096</td>\n",
       "      <td>0.0</td>\n",
       "      <td>8.0</td>\n",
       "    </tr>\n",
       "    <tr>\n",
       "      <th>326</th>\n",
       "      <td>25.188667</td>\n",
       "      <td>55.270437</td>\n",
       "      <td>0.0</td>\n",
       "      <td>7.0</td>\n",
       "    </tr>\n",
       "  </tbody>\n",
       "</table>\n",
       "</div>"
      ],
      "text/plain": [
       "     pickuplatitude  pickuplongitude  completion_rate  \\\n",
       "48        25.056223        55.203918              0.0   \n",
       "529       25.250399        55.300938              0.0   \n",
       "221       25.119926        55.218832              0.0   \n",
       "315       25.185928        55.283096              0.0   \n",
       "326       25.188667        55.270437              0.0   \n",
       "\n",
       "     distinct_journeyid_count  \n",
       "48                       11.0  \n",
       "529                      11.0  \n",
       "221                      10.0  \n",
       "315                       8.0  \n",
       "326                       7.0  "
      ]
     },
     "execution_count": 26,
     "metadata": {},
     "output_type": "execute_result"
    }
   ],
   "source": [
    "completion_rates = completion_rates.sort_values(by=['completion_rate', 'distinct_journeyid_count'], ascending=[False,False])\n",
    "completion_rates.head()"
   ]
  },
  {
   "cell_type": "markdown",
   "id": "e563b01b-21e5-4107-9bb0-a234028aed46",
   "metadata": {},
   "source": [
    "## Possible reasons for variation of completion rate across areas\n",
    "## supply & demand variations \n",
    "    ## Depending on the kind of demand zone > there is seasonality and noise - airports/strikes / offices \n",
    "## Traffic \n",
    "## behaviour/ policies\n",
    "    ## Need to understand if the requests are live or pre > tht may impact the behavior\n",
    "## pricing \n",
    "    competition \n",
    "## Incentives/ motivation"
   ]
  },
  {
   "cell_type": "markdown",
   "id": "8ce3dd00",
   "metadata": {},
   "source": [
    "## What is the average actual fare of all trips and how does it vary from average estimated fare. What can be the possible reasons for variation between the two, if any. What steps can you take to reduce the variations\n"
   ]
  },
  {
   "cell_type": "markdown",
   "id": "c581314c",
   "metadata": {},
   "source": [
    "***Assume journeyid as a unique identifier for dispatches"
   ]
  },
  {
   "cell_type": "code",
   "execution_count": 73,
   "id": "ef8570ca",
   "metadata": {},
   "outputs": [],
   "source": [
    "def extract_fare(json_str):\n",
    "    try:\n",
    "        json_obj = json.loads(json_str)\n",
    "        total_fare = json_obj.get('fare', {}).get('totalFare')\n",
    "        if total_fare is not None:\n",
    "            return float(total_fare)  \n",
    "        return None \n",
    "    except (json.JSONDecodeError, TypeError):\n",
    "        return None\n",
    "\n",
    "\n",
    "journey_data['actual_totalFare'] = journey_data['actual'].apply(extract_fare)\n",
    "journey_data['estimated_totalFare'] = journey_data['estimate'].apply(extract_fare)\n",
    "\n"
   ]
  },
  {
   "cell_type": "code",
   "execution_count": 75,
   "id": "182f4c0e-64b1-4164-97d6-2d6d66702dd7",
   "metadata": {},
   "outputs": [
    {
     "name": "stdout",
     "output_type": "stream",
     "text": [
      "average_actual_fare: 32.420580781415\n",
      "average_est_fare: 57.74578669482576\n"
     ]
    }
   ],
   "source": [
    "print(\"average_actual_fare:\", journey_data['actual_totalFare'].mean())\n",
    "print(\"average_est_fare:\", journey_data['estimated_totalFare'].mean())"
   ]
  },
  {
   "cell_type": "code",
   "execution_count": 28,
   "id": "b8c60cff",
   "metadata": {},
   "outputs": [
    {
     "name": "stdout",
     "output_type": "stream",
     "text": [
      "average_actual_fare: 32.420580781415\n",
      "average_est_fare: 57.74578669482576\n"
     ]
    }
   ],
   "source": [
    "sum_actual_fare = journey_data['actual_totalFare'].sum()\n",
    "sum_est_fare = journey_data['estimated_totalFare'].sum()\n",
    "distinct_journey_count = journey_data['journeyid'].nunique()\n",
    "\n",
    "average_actual_fare = 1.0 * sum_actual_fare / distinct_journey_count\n",
    "average_est_fare = 1.0 * sum_est_fare / distinct_journey_count\n",
    "\n",
    "\n",
    "print(\"average_actual_fare:\", average_actual_fare)\n",
    "print(\"average_est_fare:\", average_est_fare)"
   ]
  },
  {
   "cell_type": "markdown",
   "id": "641ca283-e5c3-46a2-8be5-580e9871b5a8",
   "metadata": {},
   "source": [
    "## Possible reasons for variation between the two:\n",
    "## Need to understand how estimated fare is calculated, factors that go in \n",
    "## Highlevel due to variation between Time and Distance which will be due to factors like driver not following the suggested routes, unpredictable events like longer traffics/ rider requests on stoppages in between etc. \n",
    "## Routes taken involved surge pricing/ wait time/ toll/ parking charges / cancellation fees etc which were not accounted for in the suggested routes / estimates "
   ]
  },
  {
   "cell_type": "markdown",
   "id": "68a2bc18",
   "metadata": {},
   "source": [
    "## Refer to column “journeyevent” which provides information on various steps of the lifecycle of the journey. Where do you see the maximum drop-off from the driver and customer. Suggest ways to mitigate these.\n"
   ]
  },
  {
   "cell_type": "markdown",
   "id": "c9e0e435",
   "metadata": {},
   "source": [
    "***Assume journeyid as a unique identifier for dispatches\n",
    "***Assume max eventid to be the dropp off location \n"
   ]
  },
  {
   "cell_type": "code",
   "execution_count": 29,
   "id": "8fd325d9",
   "metadata": {},
   "outputs": [],
   "source": [
    "def extract_latest_event_data(row):\n",
    "    try:\n",
    "        events = json.loads(row['journeyevents'])\n",
    "    except json.JSONDecodeError:\n",
    "        return None \n",
    "    latest_event = max(events, key=lambda x: x['eventId'])\n",
    "    return {\n",
    "        'journeyid': row['journeyid'],\n",
    "        'eventLatitude': latest_event['eventLatitude'],\n",
    "        'eventLongitude': latest_event['eventLongitude']\n",
    "    }\n",
    "\n",
    "base_data = journey_data.apply(extract_latest_event_data, axis=1)\n",
    "base = pd.json_normalize(base_data)\n",
    "grouped = base.groupby(['eventLatitude', 'eventLongitude']).agg(dispatches=('journeyid', 'nunique')).reset_index()\n",
    "grouped_sorted = grouped.sort_values(by='dispatches', ascending=False)\n"
   ]
  },
  {
   "cell_type": "code",
   "execution_count": 30,
   "id": "737033ab",
   "metadata": {},
   "outputs": [
    {
     "data": {
      "text/html": [
       "<div>\n",
       "<style scoped>\n",
       "    .dataframe tbody tr th:only-of-type {\n",
       "        vertical-align: middle;\n",
       "    }\n",
       "\n",
       "    .dataframe tbody tr th {\n",
       "        vertical-align: top;\n",
       "    }\n",
       "\n",
       "    .dataframe thead th {\n",
       "        text-align: right;\n",
       "    }\n",
       "</style>\n",
       "<table border=\"1\" class=\"dataframe\">\n",
       "  <thead>\n",
       "    <tr style=\"text-align: right;\">\n",
       "      <th></th>\n",
       "      <th>eventLatitude</th>\n",
       "      <th>eventLongitude</th>\n",
       "      <th>dispatches</th>\n",
       "    </tr>\n",
       "  </thead>\n",
       "  <tbody>\n",
       "    <tr>\n",
       "      <th>0</th>\n",
       "      <td>0.000000</td>\n",
       "      <td>0.000000</td>\n",
       "      <td>46</td>\n",
       "    </tr>\n",
       "    <tr>\n",
       "      <th>683</th>\n",
       "      <td>25.250399</td>\n",
       "      <td>55.300938</td>\n",
       "      <td>11</td>\n",
       "    </tr>\n",
       "    <tr>\n",
       "      <th>387</th>\n",
       "      <td>25.185928</td>\n",
       "      <td>55.283096</td>\n",
       "      <td>7</td>\n",
       "    </tr>\n",
       "    <tr>\n",
       "      <th>15</th>\n",
       "      <td>25.009498</td>\n",
       "      <td>55.263929</td>\n",
       "      <td>4</td>\n",
       "    </tr>\n",
       "    <tr>\n",
       "      <th>65</th>\n",
       "      <td>25.056223</td>\n",
       "      <td>55.203918</td>\n",
       "      <td>4</td>\n",
       "    </tr>\n",
       "    <tr>\n",
       "      <th>420</th>\n",
       "      <td>25.193303</td>\n",
       "      <td>55.284594</td>\n",
       "      <td>4</td>\n",
       "    </tr>\n",
       "    <tr>\n",
       "      <th>713</th>\n",
       "      <td>25.255010</td>\n",
       "      <td>55.303329</td>\n",
       "      <td>3</td>\n",
       "    </tr>\n",
       "    <tr>\n",
       "      <th>243</th>\n",
       "      <td>25.115395</td>\n",
       "      <td>55.203123</td>\n",
       "      <td>3</td>\n",
       "    </tr>\n",
       "    <tr>\n",
       "      <th>305</th>\n",
       "      <td>25.136326</td>\n",
       "      <td>55.186337</td>\n",
       "      <td>3</td>\n",
       "    </tr>\n",
       "    <tr>\n",
       "      <th>270</th>\n",
       "      <td>25.119926</td>\n",
       "      <td>55.218832</td>\n",
       "      <td>3</td>\n",
       "    </tr>\n",
       "  </tbody>\n",
       "</table>\n",
       "</div>"
      ],
      "text/plain": [
       "     eventLatitude  eventLongitude  dispatches\n",
       "0         0.000000        0.000000          46\n",
       "683      25.250399       55.300938          11\n",
       "387      25.185928       55.283096           7\n",
       "15       25.009498       55.263929           4\n",
       "65       25.056223       55.203918           4\n",
       "420      25.193303       55.284594           4\n",
       "713      25.255010       55.303329           3\n",
       "243      25.115395       55.203123           3\n",
       "305      25.136326       55.186337           3\n",
       "270      25.119926       55.218832           3"
      ]
     },
     "execution_count": 30,
     "metadata": {},
     "output_type": "execute_result"
    }
   ],
   "source": [
    "grouped_sorted.head(10)"
   ]
  },
  {
   "cell_type": "markdown",
   "id": "5066c960-7949-45ef-b5c9-4d0c0971846a",
   "metadata": {},
   "source": [
    "Didnt understand the last part of the question \n",
    "Need to understand how far is drop off from the pre-set drop off \n"
   ]
  },
  {
   "cell_type": "markdown",
   "id": "414f3caa",
   "metadata": {},
   "source": [
    "## Create cohorts for high performing and low performing drivers. What parameters available in the dataset would you choose to decide this. Analyze the data to find out reasons behind the difference in performance between the two cohorts.\n"
   ]
  },
  {
   "cell_type": "markdown",
   "id": "e012469b",
   "metadata": {},
   "source": [
    "***Assume journeyid as a unique identifier for dispatches\n",
    "***refdriverid is the column assumed to be driver unique identifier\n",
    "\n",
    "\n",
    "\n",
    "Parameters that can be used\n",
    "1.#Trips \n",
    "    completed(not present in data)\n",
    "    accepted(not present in data)\n",
    "    canceled (present in data)\n",
    "2.#Distance traversed\n",
    "3.Revenue$ - assumed to be total_actual_trip_fare\n",
    "4.Customer satisfaction - assumed to be driver rating\n",
    "6.dispatchtries and rejecteddrivers could also be used but need some more context about how this data gets populated "
   ]
  },
  {
   "cell_type": "markdown",
   "id": "5f2a83c4",
   "metadata": {},
   "source": [
    "## Trips "
   ]
  },
  {
   "cell_type": "code",
   "execution_count": 31,
   "id": "938f6981",
   "metadata": {},
   "outputs": [],
   "source": [
    "final = pd.merge(journey_data, journey_status, left_on='journeystatus', right_on='VALUE', how='left')"
   ]
  },
  {
   "cell_type": "code",
   "execution_count": 32,
   "id": "494d4d2f",
   "metadata": {},
   "outputs": [
    {
     "data": {
      "text/plain": [
       "array(['\\xa0 PAYMENT_RECEIVED', '\\xa0 USER_CANCELLED',\n",
       "       '\\xa0 ADMIN_CANCELLED', '\\xa0 DRIVER_CANCELLED',\n",
       "       '\\xa0 ZED_CANCELLED'], dtype=object)"
      ]
     },
     "execution_count": 32,
     "metadata": {},
     "output_type": "execute_result"
    }
   ],
   "source": [
    "final['JOURNEY STATUS'].unique()"
   ]
  },
  {
   "cell_type": "code",
   "execution_count": 33,
   "id": "1d4f99c3",
   "metadata": {},
   "outputs": [
    {
     "data": {
      "text/html": [
       "<div>\n",
       "<style scoped>\n",
       "    .dataframe tbody tr th:only-of-type {\n",
       "        vertical-align: middle;\n",
       "    }\n",
       "\n",
       "    .dataframe tbody tr th {\n",
       "        vertical-align: top;\n",
       "    }\n",
       "\n",
       "    .dataframe thead th {\n",
       "        text-align: right;\n",
       "    }\n",
       "</style>\n",
       "<table border=\"1\" class=\"dataframe\">\n",
       "  <thead>\n",
       "    <tr style=\"text-align: right;\">\n",
       "      <th></th>\n",
       "      <th>refdriverid</th>\n",
       "      <th>total_trips</th>\n",
       "    </tr>\n",
       "  </thead>\n",
       "  <tbody>\n",
       "    <tr>\n",
       "      <th>201</th>\n",
       "      <td>66853db054ec732f348d80c9</td>\n",
       "      <td>8</td>\n",
       "    </tr>\n",
       "    <tr>\n",
       "      <th>482</th>\n",
       "      <td>66acbbed6434034b15ad7f11</td>\n",
       "      <td>7</td>\n",
       "    </tr>\n",
       "    <tr>\n",
       "      <th>84</th>\n",
       "      <td>664743775a8f4c6073a563c5</td>\n",
       "      <td>7</td>\n",
       "    </tr>\n",
       "    <tr>\n",
       "      <th>168</th>\n",
       "      <td>6672da8f4b5168c6b34d41a3</td>\n",
       "      <td>6</td>\n",
       "    </tr>\n",
       "    <tr>\n",
       "      <th>357</th>\n",
       "      <td>669e3330d1f174b6c8f27c41</td>\n",
       "      <td>6</td>\n",
       "    </tr>\n",
       "  </tbody>\n",
       "</table>\n",
       "</div>"
      ],
      "text/plain": [
       "                  refdriverid  total_trips\n",
       "201  66853db054ec732f348d80c9            8\n",
       "482  66acbbed6434034b15ad7f11            7\n",
       "84   664743775a8f4c6073a563c5            7\n",
       "168  6672da8f4b5168c6b34d41a3            6\n",
       "357  669e3330d1f174b6c8f27c41            6"
      ]
     },
     "execution_count": 33,
     "metadata": {},
     "output_type": "execute_result"
    }
   ],
   "source": [
    "result = final.groupby('refdriverid')['journeyid'].nunique().reset_index(name='total_trips')\n",
    "result = result.sort_values(by=['total_trips'], ascending=[False])\n",
    "\n",
    "result.head()"
   ]
  },
  {
   "cell_type": "code",
   "execution_count": 34,
   "id": "4effc819",
   "metadata": {},
   "outputs": [
    {
     "data": {
      "text/plain": [
       "(493, 2)"
      ]
     },
     "execution_count": 34,
     "metadata": {},
     "output_type": "execute_result"
    }
   ],
   "source": [
    "result.shape"
   ]
  },
  {
   "cell_type": "markdown",
   "id": "544d71c1-ca6c-4108-968e-51fa0182fb1c",
   "metadata": {},
   "source": [
    "## if P99 of a specific variable is x then it means only 1% of the drivers are greater than x."
   ]
  },
  {
   "cell_type": "code",
   "execution_count": 35,
   "id": "a4b81eab",
   "metadata": {},
   "outputs": [
    {
     "data": {
      "image/png": "[encoded data removed]",
      "text/plain": [
       "<Figure size 1000x600 with 1 Axes>"
      ]
     },
     "metadata": {},
     "output_type": "display_data"
    }
   ],
   "source": [
    "percentiles = np.percentile(result['total_trips'], np.arange(0, 101, 1))\n",
    "\n",
    "plt.figure(figsize=(10, 6))\n",
    "plt.plot(np.arange(0, 101), percentiles, marker='o', linestyle='-', color='b')\n",
    "\n",
    "plt.grid(True)\n",
    "plt.show()"
   ]
  },
  {
   "cell_type": "code",
   "execution_count": 36,
   "id": "fd25fb3c",
   "metadata": {},
   "outputs": [
    {
     "name": "stdout",
     "output_type": "stream",
     "text": [
      "P99 value: 6.0\n",
      "P95 value: 4.0\n",
      "P90 value: 3.0\n",
      "P80 value: 2.0\n",
      "P60 value: 2.0\n",
      "P50 value: 1.0\n",
      "P40 value: 1.0\n",
      "P20 value: 1.0\n",
      "P5 value: 1.0\n"
     ]
    }
   ],
   "source": [
    "p99 = np.percentile(result['total_trips'], 99)\n",
    "p95 = np.percentile(result['total_trips'], 95)\n",
    "p90 = np.percentile(result['total_trips'], 90)\n",
    "p80 = np.percentile(result['total_trips'], 80)\n",
    "p60 = np.percentile(result['total_trips'], 60)\n",
    "p50 = np.percentile(result['total_trips'], 50)\n",
    "p40 = np.percentile(result['total_trips'], 40)\n",
    "p20 = np.percentile(result['total_trips'], 20)\n",
    "p5 = np.percentile(result['total_trips'], 5)\n",
    "\n",
    "\n",
    "# Print the values\n",
    "print(f\"P99 value: {p99}\")\n",
    "print(f\"P95 value: {p95}\")\n",
    "print(f\"P90 value: {p90}\")\n",
    "print(f\"P80 value: {p80}\")\n",
    "print(f\"P60 value: {p60}\")\n",
    "print(f\"P50 value: {p50}\")\n",
    "print(f\"P40 value: {p40}\")\n",
    "print(f\"P20 value: {p20}\")\n",
    "print(f\"P5 value: {p5}\")\n"
   ]
  },
  {
   "cell_type": "markdown",
   "id": "4c383598",
   "metadata": {},
   "source": [
    "## Revenue"
   ]
  },
  {
   "cell_type": "code",
   "execution_count": 40,
   "id": "4758f388",
   "metadata": {},
   "outputs": [],
   "source": [
    "def extract_fare(json_str):\n",
    "    try:\n",
    "        json_obj = json.loads(json_str)\n",
    "        total_fare = json_obj.get('fare', {}).get('totalFare')\n",
    "        if total_fare is not None:\n",
    "            return float(total_fare)  \n",
    "        return None  \n",
    "    except (json.JSONDecodeError, TypeError):\n",
    "        return None\n",
    "\n",
    "journey_data['actual_totalFare'] = journey_data['actual'].apply(extract_fare)\n",
    "journey_data['estimated_totalFare'] = journey_data['estimate'].apply(extract_fare)\n",
    "\n"
   ]
  },
  {
   "cell_type": "code",
   "execution_count": 41,
   "id": "0c4da696",
   "metadata": {},
   "outputs": [
    {
     "data": {
      "text/html": [
       "<div>\n",
       "<style scoped>\n",
       "    .dataframe tbody tr th:only-of-type {\n",
       "        vertical-align: middle;\n",
       "    }\n",
       "\n",
       "    .dataframe tbody tr th {\n",
       "        vertical-align: top;\n",
       "    }\n",
       "\n",
       "    .dataframe thead th {\n",
       "        text-align: right;\n",
       "    }\n",
       "</style>\n",
       "<table border=\"1\" class=\"dataframe\">\n",
       "  <thead>\n",
       "    <tr style=\"text-align: right;\">\n",
       "      <th></th>\n",
       "      <th>refdriverid</th>\n",
       "      <th>total_fare</th>\n",
       "    </tr>\n",
       "  </thead>\n",
       "  <tbody>\n",
       "    <tr>\n",
       "      <th>69</th>\n",
       "      <td>6620d31d5a473db3ad1b3927</td>\n",
       "      <td>300.11</td>\n",
       "    </tr>\n",
       "    <tr>\n",
       "      <th>232</th>\n",
       "      <td>668f9bead1f174b6c8a1b55d</td>\n",
       "      <td>298.87</td>\n",
       "    </tr>\n",
       "    <tr>\n",
       "      <th>352</th>\n",
       "      <td>669c1e6c4b0e51777d39a5ec</td>\n",
       "      <td>291.49</td>\n",
       "    </tr>\n",
       "    <tr>\n",
       "      <th>168</th>\n",
       "      <td>6672da8f4b5168c6b34d41a3</td>\n",
       "      <td>274.78</td>\n",
       "    </tr>\n",
       "    <tr>\n",
       "      <th>200</th>\n",
       "      <td>66852e08ebc4992d6bd488cf</td>\n",
       "      <td>262.82</td>\n",
       "    </tr>\n",
       "  </tbody>\n",
       "</table>\n",
       "</div>"
      ],
      "text/plain": [
       "                  refdriverid  total_fare\n",
       "69   6620d31d5a473db3ad1b3927      300.11\n",
       "232  668f9bead1f174b6c8a1b55d      298.87\n",
       "352  669c1e6c4b0e51777d39a5ec      291.49\n",
       "168  6672da8f4b5168c6b34d41a3      274.78\n",
       "200  66852e08ebc4992d6bd488cf      262.82"
      ]
     },
     "execution_count": 41,
     "metadata": {},
     "output_type": "execute_result"
    }
   ],
   "source": [
    "result1 = journey_data.groupby('refdriverid')['actual_totalFare'].sum().reset_index(name='total_fare')\n",
    "result1 = result1.sort_values(by=['total_fare'], ascending=[False])\n",
    "\n",
    "result1.head()"
   ]
  },
  {
   "cell_type": "code",
   "execution_count": 42,
   "id": "4f4282d0",
   "metadata": {},
   "outputs": [
    {
     "data": {
      "text/plain": [
       "(493, 2)"
      ]
     },
     "execution_count": 42,
     "metadata": {},
     "output_type": "execute_result"
    }
   ],
   "source": [
    "result1.shape"
   ]
  },
  {
   "cell_type": "code",
   "execution_count": 43,
   "id": "5392bb3d",
   "metadata": {},
   "outputs": [
    {
     "data": {
      "image/png": "[encoded data removed]",
      "text/plain": [
       "<Figure size 1000x600 with 1 Axes>"
      ]
     },
     "metadata": {},
     "output_type": "display_data"
    }
   ],
   "source": [
    "percentiles = np.percentile(result1['total_fare'], np.arange(0, 101, 1))\n",
    "plt.figure(figsize=(10, 6))\n",
    "plt.plot(np.arange(0, 101), percentiles, marker='o', linestyle='-', color='b')\n",
    "\n",
    "\n",
    "plt.grid(True)\n",
    "plt.show()"
   ]
  },
  {
   "cell_type": "code",
   "execution_count": 44,
   "id": "101b13a0",
   "metadata": {},
   "outputs": [
    {
     "name": "stdout",
     "output_type": "stream",
     "text": [
      "P99 value: 253.65679999999986\n",
      "P95 value: 172.74199999999996\n",
      "P90 value: 132.554\n",
      "P80 value: 100.61\n",
      "P60 value: 64.62599999999999\n",
      "P50 value: 50.56\n",
      "P40 value: 40.396\n",
      "P20 value: 0.0\n",
      "P5 value: 0.0\n"
     ]
    }
   ],
   "source": [
    "p99 = np.percentile(result1['total_fare'], 99)\n",
    "p95 = np.percentile(result1['total_fare'], 95)\n",
    "p90 = np.percentile(result1['total_fare'], 90)\n",
    "p80 = np.percentile(result1['total_fare'], 80)\n",
    "p60 = np.percentile(result1['total_fare'], 60)\n",
    "p50 = np.percentile(result1['total_fare'], 50)\n",
    "p40 = np.percentile(result1['total_fare'], 40)\n",
    "p20 = np.percentile(result1['total_fare'], 20)\n",
    "p5 = np.percentile(result1['total_fare'], 5)\n",
    "\n",
    "\n",
    "\n",
    "print(f\"P99 value: {p99}\")\n",
    "print(f\"P95 value: {p95}\")\n",
    "print(f\"P90 value: {p90}\")\n",
    "print(f\"P80 value: {p80}\")\n",
    "print(f\"P60 value: {p60}\")\n",
    "print(f\"P50 value: {p50}\")\n",
    "print(f\"P40 value: {p40}\")\n",
    "print(f\"P20 value: {p20}\")\n",
    "print(f\"P5 value: {p5}\")"
   ]
  },
  {
   "cell_type": "markdown",
   "id": "27357c4e",
   "metadata": {},
   "source": [
    "## Rating"
   ]
  },
  {
   "cell_type": "code",
   "execution_count": 45,
   "id": "45079971",
   "metadata": {},
   "outputs": [],
   "source": [
    "def extract_json_fields(json_str):\n",
    "    if isinstance(json_str, str): \n",
    "        try:\n",
    "            data = json.loads(json_str)\n",
    "            review = data.get('review', '')\n",
    "            value = data.get('value', None)\n",
    "            badges = data.get('badges', [])\n",
    "            return value\n",
    "        except json.JSONDecodeError:\n",
    "            return None \n",
    "    else:\n",
    "        return None  \n",
    "\n",
    "journey_data['value'] = journey_data['driverrating'].apply(\n",
    "    lambda x: pd.Series(extract_json_fields(x), dtype='float64')\n",
    ")"
   ]
  },
  {
   "cell_type": "code",
   "execution_count": 46,
   "id": "2a26a0c6",
   "metadata": {},
   "outputs": [
    {
     "data": {
      "text/html": [
       "<div>\n",
       "<style scoped>\n",
       "    .dataframe tbody tr th:only-of-type {\n",
       "        vertical-align: middle;\n",
       "    }\n",
       "\n",
       "    .dataframe tbody tr th {\n",
       "        vertical-align: top;\n",
       "    }\n",
       "\n",
       "    .dataframe thead th {\n",
       "        text-align: right;\n",
       "    }\n",
       "</style>\n",
       "<table border=\"1\" class=\"dataframe\">\n",
       "  <thead>\n",
       "    <tr style=\"text-align: right;\">\n",
       "      <th></th>\n",
       "      <th>_id</th>\n",
       "      <th>modes</th>\n",
       "      <th>notes</th>\n",
       "      <th>actual</th>\n",
       "      <th>maxtry</th>\n",
       "      <th>payment</th>\n",
       "      <th>estimate</th>\n",
       "      <th>createdat</th>\n",
       "      <th>journeyid</th>\n",
       "      <th>updatedat</th>\n",
       "      <th>...</th>\n",
       "      <th>driveraddonssetup</th>\n",
       "      <th>indispatchdrivers</th>\n",
       "      <th>_ab_cdc_deleted_at</th>\n",
       "      <th>_ab_cdc_updated_at</th>\n",
       "      <th>vehiclecategorytype</th>\n",
       "      <th>refvehiclecategoryid</th>\n",
       "      <th>considereddispatchdrivers</th>\n",
       "      <th>actual_totalFare</th>\n",
       "      <th>estimated_totalFare</th>\n",
       "      <th>value</th>\n",
       "    </tr>\n",
       "  </thead>\n",
       "  <tbody>\n",
       "    <tr>\n",
       "      <th>0</th>\n",
       "      <td>668af74fd6aa19ab0d2faf9b</td>\n",
       "      <td>{\"refModeId\":\"65d4ba07d30d222a7c7921b5\",\"modeT...</td>\n",
       "      <td>NaN</td>\n",
       "      <td>{\"route\":\"[{\\\"lng\\\":55.3855037,\\\"lat\\\":25.0847...</td>\n",
       "      <td>3</td>\n",
       "      <td>{\"refCardId\":null,\"mode\":1,\"_id\":\"668af74fd6aa...</td>\n",
       "      <td>{\"route\":\"[{\\\"lat\\\":25.08553,\\\"lng\\\":55.38554}...</td>\n",
       "      <td>2024-07-07T20:15:11.732Z</td>\n",
       "      <td>SDGNFXEX99851</td>\n",
       "      <td>2024-08-02T09:02:09.172Z</td>\n",
       "      <td>...</td>\n",
       "      <td>True</td>\n",
       "      <td>[{\"refDriverId\":\"65fd375806c53d6b843a233c\",\"la...</td>\n",
       "      <td>NaN</td>\n",
       "      <td>2024-09-25T08:06:18Z</td>\n",
       "      <td>1</td>\n",
       "      <td>65d4bce6d30d222a7c7921bc</td>\n",
       "      <td>NaN</td>\n",
       "      <td>39.45</td>\n",
       "      <td>41.99</td>\n",
       "      <td>1.0</td>\n",
       "    </tr>\n",
       "    <tr>\n",
       "      <th>1</th>\n",
       "      <td>66953704d3606d4c9172ed39</td>\n",
       "      <td>{\"refModeId\":\"65d4ba07d30d222a7c7921b4\",\"modeT...</td>\n",
       "      <td>NaN</td>\n",
       "      <td>{\"fare\":{\"totalPreTripWaitCharge\":0,\"totalCanc...</td>\n",
       "      <td>3</td>\n",
       "      <td>{\"refCardId\":\"669536d58ecb1306c22b61c9\",\"mode\"...</td>\n",
       "      <td>{\"route\":\"[{\\\"lat\\\":25.22471,\\\"lng\\\":55.44027}...</td>\n",
       "      <td>2024-07-15T14:49:40.070Z</td>\n",
       "      <td>SQWKLKMC44190</td>\n",
       "      <td>2024-07-28T07:02:14.191Z</td>\n",
       "      <td>...</td>\n",
       "      <td>False</td>\n",
       "      <td>[]</td>\n",
       "      <td>NaN</td>\n",
       "      <td>2024-09-25T08:06:18Z</td>\n",
       "      <td>1</td>\n",
       "      <td>65d4bce6d30d222a7c7921bd</td>\n",
       "      <td>NaN</td>\n",
       "      <td>0.00</td>\n",
       "      <td>124.90</td>\n",
       "      <td>NaN</td>\n",
       "    </tr>\n",
       "    <tr>\n",
       "      <th>2</th>\n",
       "      <td>669822c11472774445121acb</td>\n",
       "      <td>{\"refModeId\":\"65d4ba07d30d222a7c7921b6\",\"modeT...</td>\n",
       "      <td>NaN</td>\n",
       "      <td>{\"fare\":{\"totalCancellationFee\":0,\"base\":0,\"mi...</td>\n",
       "      <td>3</td>\n",
       "      <td>{\"refCardId\":null,\"mode\":1,\"_id\":\"669822c11472...</td>\n",
       "      <td>{\"route\":\"[{\\\"lat\\\":25.23131,\\\"lng\\\":55.28292}...</td>\n",
       "      <td>2024-07-17T20:00:01.250Z</td>\n",
       "      <td>SDJWYZRH82586</td>\n",
       "      <td>2024-07-28T10:34:36.931Z</td>\n",
       "      <td>...</td>\n",
       "      <td>False</td>\n",
       "      <td>[]</td>\n",
       "      <td>NaN</td>\n",
       "      <td>2024-09-25T08:06:18Z</td>\n",
       "      <td>1</td>\n",
       "      <td>65d4bce6d30d222a7c7921bc</td>\n",
       "      <td>NaN</td>\n",
       "      <td>0.00</td>\n",
       "      <td>29.96</td>\n",
       "      <td>NaN</td>\n",
       "    </tr>\n",
       "    <tr>\n",
       "      <th>3</th>\n",
       "      <td>669c174014727744451dc9a2</td>\n",
       "      <td>{\"refModeId\":\"65d4ba07d30d222a7c7921b4\",\"modeT...</td>\n",
       "      <td>NaN</td>\n",
       "      <td>{\"fare\":{\"totalCancellationFee\":0,\"base\":0,\"mi...</td>\n",
       "      <td>3</td>\n",
       "      <td>{\"refCardId\":\"667cba14a5438a20d85216cc\",\"mode\"...</td>\n",
       "      <td>{\"route\":\"[{\\\"lat\\\":25.27073,\\\"lng\\\":55.30922}...</td>\n",
       "      <td>2024-07-20T20:00:00.726Z</td>\n",
       "      <td>SZGJSIBT71606</td>\n",
       "      <td>2024-07-27T04:44:20.678Z</td>\n",
       "      <td>...</td>\n",
       "      <td>False</td>\n",
       "      <td>[]</td>\n",
       "      <td>NaN</td>\n",
       "      <td>2024-09-25T08:06:18Z</td>\n",
       "      <td>1</td>\n",
       "      <td>65d4bce6d30d222a7c7921bc</td>\n",
       "      <td>NaN</td>\n",
       "      <td>0.00</td>\n",
       "      <td>72.27</td>\n",
       "      <td>NaN</td>\n",
       "    </tr>\n",
       "    <tr>\n",
       "      <th>4</th>\n",
       "      <td>669974401472774445165c1c</td>\n",
       "      <td>{\"refModeId\":\"65d4ba07d30d222a7c7921b5\",\"modeT...</td>\n",
       "      <td>NaN</td>\n",
       "      <td>{\"fare\":{\"totalCancellationFee\":0,\"base\":0,\"mi...</td>\n",
       "      <td>3</td>\n",
       "      <td>{\"refCardId\":null,\"mode\":1,\"_id\":\"669974401472...</td>\n",
       "      <td>{\"route\":\"[{\\\"lat\\\":25.01119,\\\"lng\\\":55.10941}...</td>\n",
       "      <td>2024-07-18T20:00:00.813Z</td>\n",
       "      <td>SURMBOEN68989</td>\n",
       "      <td>2024-08-02T04:13:38.211Z</td>\n",
       "      <td>...</td>\n",
       "      <td>False</td>\n",
       "      <td>[{\"refDriverId\":\"667166f91ea563f273ade4f1\",\"la...</td>\n",
       "      <td>NaN</td>\n",
       "      <td>2024-09-25T08:06:18Z</td>\n",
       "      <td>1</td>\n",
       "      <td>65d4bce6d30d222a7c7921bc</td>\n",
       "      <td>NaN</td>\n",
       "      <td>0.00</td>\n",
       "      <td>68.07</td>\n",
       "      <td>NaN</td>\n",
       "    </tr>\n",
       "  </tbody>\n",
       "</table>\n",
       "<p>5 rows × 45 columns</p>\n",
       "</div>"
      ],
      "text/plain": [
       "                        _id  \\\n",
       "0  668af74fd6aa19ab0d2faf9b   \n",
       "1  66953704d3606d4c9172ed39   \n",
       "2  669822c11472774445121acb   \n",
       "3  669c174014727744451dc9a2   \n",
       "4  669974401472774445165c1c   \n",
       "\n",
       "                                               modes notes  \\\n",
       "0  {\"refModeId\":\"65d4ba07d30d222a7c7921b5\",\"modeT...   NaN   \n",
       "1  {\"refModeId\":\"65d4ba07d30d222a7c7921b4\",\"modeT...   NaN   \n",
       "2  {\"refModeId\":\"65d4ba07d30d222a7c7921b6\",\"modeT...   NaN   \n",
       "3  {\"refModeId\":\"65d4ba07d30d222a7c7921b4\",\"modeT...   NaN   \n",
       "4  {\"refModeId\":\"65d4ba07d30d222a7c7921b5\",\"modeT...   NaN   \n",
       "\n",
       "                                              actual  maxtry  \\\n",
       "0  {\"route\":\"[{\\\"lng\\\":55.3855037,\\\"lat\\\":25.0847...       3   \n",
       "1  {\"fare\":{\"totalPreTripWaitCharge\":0,\"totalCanc...       3   \n",
       "2  {\"fare\":{\"totalCancellationFee\":0,\"base\":0,\"mi...       3   \n",
       "3  {\"fare\":{\"totalCancellationFee\":0,\"base\":0,\"mi...       3   \n",
       "4  {\"fare\":{\"totalCancellationFee\":0,\"base\":0,\"mi...       3   \n",
       "\n",
       "                                             payment  \\\n",
       "0  {\"refCardId\":null,\"mode\":1,\"_id\":\"668af74fd6aa...   \n",
       "1  {\"refCardId\":\"669536d58ecb1306c22b61c9\",\"mode\"...   \n",
       "2  {\"refCardId\":null,\"mode\":1,\"_id\":\"669822c11472...   \n",
       "3  {\"refCardId\":\"667cba14a5438a20d85216cc\",\"mode\"...   \n",
       "4  {\"refCardId\":null,\"mode\":1,\"_id\":\"669974401472...   \n",
       "\n",
       "                                            estimate  \\\n",
       "0  {\"route\":\"[{\\\"lat\\\":25.08553,\\\"lng\\\":55.38554}...   \n",
       "1  {\"route\":\"[{\\\"lat\\\":25.22471,\\\"lng\\\":55.44027}...   \n",
       "2  {\"route\":\"[{\\\"lat\\\":25.23131,\\\"lng\\\":55.28292}...   \n",
       "3  {\"route\":\"[{\\\"lat\\\":25.27073,\\\"lng\\\":55.30922}...   \n",
       "4  {\"route\":\"[{\\\"lat\\\":25.01119,\\\"lng\\\":55.10941}...   \n",
       "\n",
       "                  createdat      journeyid                 updatedat  ...  \\\n",
       "0  2024-07-07T20:15:11.732Z  SDGNFXEX99851  2024-08-02T09:02:09.172Z  ...   \n",
       "1  2024-07-15T14:49:40.070Z  SQWKLKMC44190  2024-07-28T07:02:14.191Z  ...   \n",
       "2  2024-07-17T20:00:01.250Z  SDJWYZRH82586  2024-07-28T10:34:36.931Z  ...   \n",
       "3  2024-07-20T20:00:00.726Z  SZGJSIBT71606  2024-07-27T04:44:20.678Z  ...   \n",
       "4  2024-07-18T20:00:00.813Z  SURMBOEN68989  2024-08-02T04:13:38.211Z  ...   \n",
       "\n",
       "   driveraddonssetup                                  indispatchdrivers  \\\n",
       "0               True  [{\"refDriverId\":\"65fd375806c53d6b843a233c\",\"la...   \n",
       "1              False                                                 []   \n",
       "2              False                                                 []   \n",
       "3              False                                                 []   \n",
       "4              False  [{\"refDriverId\":\"667166f91ea563f273ade4f1\",\"la...   \n",
       "\n",
       "  _ab_cdc_deleted_at    _ab_cdc_updated_at  vehiclecategorytype  \\\n",
       "0                NaN  2024-09-25T08:06:18Z                    1   \n",
       "1                NaN  2024-09-25T08:06:18Z                    1   \n",
       "2                NaN  2024-09-25T08:06:18Z                    1   \n",
       "3                NaN  2024-09-25T08:06:18Z                    1   \n",
       "4                NaN  2024-09-25T08:06:18Z                    1   \n",
       "\n",
       "       refvehiclecategoryid considereddispatchdrivers actual_totalFare  \\\n",
       "0  65d4bce6d30d222a7c7921bc                       NaN            39.45   \n",
       "1  65d4bce6d30d222a7c7921bd                       NaN             0.00   \n",
       "2  65d4bce6d30d222a7c7921bc                       NaN             0.00   \n",
       "3  65d4bce6d30d222a7c7921bc                       NaN             0.00   \n",
       "4  65d4bce6d30d222a7c7921bc                       NaN             0.00   \n",
       "\n",
       "  estimated_totalFare value  \n",
       "0               41.99   1.0  \n",
       "1              124.90   NaN  \n",
       "2               29.96   NaN  \n",
       "3               72.27   NaN  \n",
       "4               68.07   NaN  \n",
       "\n",
       "[5 rows x 45 columns]"
      ]
     },
     "execution_count": 46,
     "metadata": {},
     "output_type": "execute_result"
    }
   ],
   "source": [
    "journey_data.head()"
   ]
  },
  {
   "cell_type": "code",
   "execution_count": 47,
   "id": "120cfe9e",
   "metadata": {},
   "outputs": [
    {
     "data": {
      "text/html": [
       "<div>\n",
       "<style scoped>\n",
       "    .dataframe tbody tr th:only-of-type {\n",
       "        vertical-align: middle;\n",
       "    }\n",
       "\n",
       "    .dataframe tbody tr th {\n",
       "        vertical-align: top;\n",
       "    }\n",
       "\n",
       "    .dataframe thead th {\n",
       "        text-align: right;\n",
       "    }\n",
       "</style>\n",
       "<table border=\"1\" class=\"dataframe\">\n",
       "  <thead>\n",
       "    <tr style=\"text-align: right;\">\n",
       "      <th></th>\n",
       "      <th>refdriverid</th>\n",
       "      <th>avg_rating</th>\n",
       "    </tr>\n",
       "  </thead>\n",
       "  <tbody>\n",
       "    <tr>\n",
       "      <th>2</th>\n",
       "      <td>65ddd247b17ddd0b3480d485</td>\n",
       "      <td>5.0</td>\n",
       "    </tr>\n",
       "    <tr>\n",
       "      <th>333</th>\n",
       "      <td>669b2dc42ce67e382648ad51</td>\n",
       "      <td>5.0</td>\n",
       "    </tr>\n",
       "    <tr>\n",
       "      <th>319</th>\n",
       "      <td>6698e1b64b0e51777ddf5610</td>\n",
       "      <td>5.0</td>\n",
       "    </tr>\n",
       "    <tr>\n",
       "      <th>320</th>\n",
       "      <td>6698f8cad1f174b6c86a05de</td>\n",
       "      <td>5.0</td>\n",
       "    </tr>\n",
       "    <tr>\n",
       "      <th>321</th>\n",
       "      <td>6698fa114b0e51777de28952</td>\n",
       "      <td>5.0</td>\n",
       "    </tr>\n",
       "  </tbody>\n",
       "</table>\n",
       "</div>"
      ],
      "text/plain": [
       "                  refdriverid  avg_rating\n",
       "2    65ddd247b17ddd0b3480d485         5.0\n",
       "333  669b2dc42ce67e382648ad51         5.0\n",
       "319  6698e1b64b0e51777ddf5610         5.0\n",
       "320  6698f8cad1f174b6c86a05de         5.0\n",
       "321  6698fa114b0e51777de28952         5.0"
      ]
     },
     "execution_count": 47,
     "metadata": {},
     "output_type": "execute_result"
    }
   ],
   "source": [
    "result2 = journey_data.groupby('refdriverid')['value'].mean().reset_index(name='avg_rating')\n",
    "result2 = result2.sort_values(by=['avg_rating'], ascending=[False])\n",
    "\n",
    "result2.head()"
   ]
  },
  {
   "cell_type": "code",
   "execution_count": 48,
   "id": "9653bd7c",
   "metadata": {},
   "outputs": [
    {
     "data": {
      "text/plain": [
       "(493, 2)"
      ]
     },
     "execution_count": 48,
     "metadata": {},
     "output_type": "execute_result"
    }
   ],
   "source": [
    "result2.shape"
   ]
  },
  {
   "cell_type": "code",
   "execution_count": 49,
   "id": "5bc36356",
   "metadata": {},
   "outputs": [],
   "source": [
    "result2 = result2.dropna(subset=['avg_rating'])"
   ]
  },
  {
   "cell_type": "code",
   "execution_count": 50,
   "id": "804b5941",
   "metadata": {},
   "outputs": [
    {
     "data": {
      "text/plain": [
       "(142, 2)"
      ]
     },
     "execution_count": 50,
     "metadata": {},
     "output_type": "execute_result"
    }
   ],
   "source": [
    "result2.shape"
   ]
  },
  {
   "cell_type": "code",
   "execution_count": 51,
   "id": "bfb765de",
   "metadata": {},
   "outputs": [
    {
     "name": "stdout",
     "output_type": "stream",
     "text": [
      "P99 value: 5.0\n",
      "P95 value: 5.0\n",
      "P90 value: 5.0\n",
      "P80 value: 5.0\n",
      "P60 value: 5.0\n",
      "P50 value: 5.0\n",
      "P40 value: 5.0\n",
      "P20 value: 5.0\n",
      "P5 value: 4.0\n"
     ]
    }
   ],
   "source": [
    "p99 = np.percentile(result2['avg_rating'], 99)\n",
    "p95 = np.percentile(result2['avg_rating'], 95)\n",
    "p90 = np.percentile(result2['avg_rating'], 90)\n",
    "p80 = np.percentile(result2['avg_rating'], 80)\n",
    "p60 = np.percentile(result2['avg_rating'], 60)\n",
    "p50 = np.percentile(result2['avg_rating'], 50)\n",
    "p40 = np.percentile(result2['avg_rating'], 40)\n",
    "p20 = np.percentile(result2['avg_rating'], 20)\n",
    "p5 = np.percentile(result2['avg_rating'], 5)\n",
    "\n",
    "\n",
    "\n",
    "print(f\"P99 value: {p99}\")\n",
    "print(f\"P95 value: {p95}\")\n",
    "print(f\"P90 value: {p90}\")\n",
    "print(f\"P80 value: {p80}\")\n",
    "print(f\"P60 value: {p60}\")\n",
    "print(f\"P50 value: {p50}\")\n",
    "print(f\"P40 value: {p40}\")\n",
    "print(f\"P20 value: {p20}\")\n",
    "print(f\"P5 value: {p5}\")"
   ]
  },
  {
   "cell_type": "markdown",
   "id": "ca38dd5b",
   "metadata": {},
   "source": [
    "## Distance travelled "
   ]
  },
  {
   "cell_type": "code",
   "execution_count": 52,
   "id": "b9a1c518",
   "metadata": {},
   "outputs": [
    {
     "data": {
      "text/plain": [
       "0      23.95\n",
       "1       0.00\n",
       "2       0.00\n",
       "3       0.00\n",
       "4       0.00\n",
       "       ...  \n",
       "942    16.88\n",
       "943    19.20\n",
       "944    28.07\n",
       "945    44.85\n",
       "946     4.91\n",
       "Name: totalDistance, Length: 947, dtype: float64"
      ]
     },
     "execution_count": 52,
     "metadata": {},
     "output_type": "execute_result"
    }
   ],
   "source": [
    "def extract_fare(json_str):\n",
    "    try:\n",
    "        json_obj = json.loads(json_str)\n",
    "        total_fare = json_obj.get('fare', {}).get('totalDistance')\n",
    "        if total_fare is not None:\n",
    "            return float(total_fare) \n",
    "        return None \n",
    "    except (json.JSONDecodeError, TypeError):\n",
    "        return None\n",
    "\n",
    "journey_data['totalDistance'] = journey_data['actual'].apply(extract_fare)\n",
    "journey_data['totalDistance']"
   ]
  },
  {
   "cell_type": "code",
   "execution_count": 53,
   "id": "aafe5f69",
   "metadata": {},
   "outputs": [
    {
     "data": {
      "text/html": [
       "<div>\n",
       "<style scoped>\n",
       "    .dataframe tbody tr th:only-of-type {\n",
       "        vertical-align: middle;\n",
       "    }\n",
       "\n",
       "    .dataframe tbody tr th {\n",
       "        vertical-align: top;\n",
       "    }\n",
       "\n",
       "    .dataframe thead th {\n",
       "        text-align: right;\n",
       "    }\n",
       "</style>\n",
       "<table border=\"1\" class=\"dataframe\">\n",
       "  <thead>\n",
       "    <tr style=\"text-align: right;\">\n",
       "      <th></th>\n",
       "      <th>refdriverid</th>\n",
       "      <th>total_distance</th>\n",
       "    </tr>\n",
       "  </thead>\n",
       "  <tbody>\n",
       "    <tr>\n",
       "      <th>232</th>\n",
       "      <td>668f9bead1f174b6c8a1b55d</td>\n",
       "      <td>199.84</td>\n",
       "    </tr>\n",
       "    <tr>\n",
       "      <th>69</th>\n",
       "      <td>6620d31d5a473db3ad1b3927</td>\n",
       "      <td>189.59</td>\n",
       "    </tr>\n",
       "    <tr>\n",
       "      <th>352</th>\n",
       "      <td>669c1e6c4b0e51777d39a5ec</td>\n",
       "      <td>184.50</td>\n",
       "    </tr>\n",
       "    <tr>\n",
       "      <th>348</th>\n",
       "      <td>669ba9752ce67e3826565063</td>\n",
       "      <td>171.36</td>\n",
       "    </tr>\n",
       "    <tr>\n",
       "      <th>200</th>\n",
       "      <td>66852e08ebc4992d6bd488cf</td>\n",
       "      <td>169.70</td>\n",
       "    </tr>\n",
       "  </tbody>\n",
       "</table>\n",
       "</div>"
      ],
      "text/plain": [
       "                  refdriverid  total_distance\n",
       "232  668f9bead1f174b6c8a1b55d          199.84\n",
       "69   6620d31d5a473db3ad1b3927          189.59\n",
       "352  669c1e6c4b0e51777d39a5ec          184.50\n",
       "348  669ba9752ce67e3826565063          171.36\n",
       "200  66852e08ebc4992d6bd488cf          169.70"
      ]
     },
     "execution_count": 53,
     "metadata": {},
     "output_type": "execute_result"
    }
   ],
   "source": [
    "result3 = journey_data.groupby('refdriverid')['totalDistance'].sum().reset_index(name='total_distance')\n",
    "result3 = result3.sort_values(by=['total_distance'], ascending=[False])\n",
    "\n",
    "result3.head()"
   ]
  },
  {
   "cell_type": "code",
   "execution_count": 54,
   "id": "8e39a4cd",
   "metadata": {},
   "outputs": [
    {
     "data": {
      "text/plain": [
       "(493, 2)"
      ]
     },
     "execution_count": 54,
     "metadata": {},
     "output_type": "execute_result"
    }
   ],
   "source": [
    "result3.shape"
   ]
  },
  {
   "cell_type": "code",
   "execution_count": 55,
   "id": "d746ee3b",
   "metadata": {},
   "outputs": [
    {
     "data": {
      "image/png": "[encoded data removed]",
      "text/plain": [
       "<Figure size 1000x600 with 1 Axes>"
      ]
     },
     "metadata": {},
     "output_type": "display_data"
    }
   ],
   "source": [
    "percentiles = np.percentile(result3['total_distance'], np.arange(0, 101, 1))\n",
    "\n",
    "plt.figure(figsize=(10, 6))\n",
    "plt.plot(np.arange(0, 101), percentiles, marker='o', linestyle='-', color='b')\n",
    "\n",
    "plt.grid(True)\n",
    "plt.show()"
   ]
  },
  {
   "cell_type": "code",
   "execution_count": 56,
   "id": "11dbce39",
   "metadata": {},
   "outputs": [
    {
     "name": "stdout",
     "output_type": "stream",
     "text": [
      "P99 value: 167.89679999999998\n",
      "P95 value: 107.21999999999998\n",
      "P90 value: 84.4\n",
      "P80 value: 62.06000000000002\n",
      "P60 value: 35.964\n",
      "P50 value: 27.06\n",
      "P40 value: 18.7\n",
      "P20 value: 0.0\n",
      "P5 value: 0.0\n"
     ]
    }
   ],
   "source": [
    "p99 = np.percentile(result3['total_distance'], 99)\n",
    "p95 = np.percentile(result3['total_distance'], 95)\n",
    "p90 = np.percentile(result3['total_distance'], 90)\n",
    "p80 = np.percentile(result3['total_distance'], 80)\n",
    "p60 = np.percentile(result3['total_distance'], 60)\n",
    "p50 = np.percentile(result3['total_distance'], 50)\n",
    "p40 = np.percentile(result3['total_distance'], 40)\n",
    "p20 = np.percentile(result3['total_distance'], 20)\n",
    "p5 = np.percentile(result3['total_distance'], 5)\n",
    "\n",
    "print(f\"P99 value: {p99}\")\n",
    "print(f\"P95 value: {p95}\")\n",
    "print(f\"P90 value: {p90}\")\n",
    "print(f\"P80 value: {p80}\")\n",
    "print(f\"P60 value: {p60}\")\n",
    "print(f\"P50 value: {p50}\")\n",
    "print(f\"P40 value: {p40}\")\n",
    "print(f\"P20 value: {p20}\")\n",
    "print(f\"P5 value: {p5}\")"
   ]
  },
  {
   "cell_type": "markdown",
   "id": "2a840177-91e3-461c-a6d3-ad65bf5d2322",
   "metadata": {},
   "source": [
    "## trips = result \n",
    "## revenue = result1\n",
    "## rating = result2\n",
    "## distance travelled = result3"
   ]
  },
  {
   "cell_type": "code",
   "execution_count": 57,
   "id": "5658eb7d",
   "metadata": {},
   "outputs": [
    {
     "data": {
      "text/plain": [
       "493"
      ]
     },
     "execution_count": 57,
     "metadata": {},
     "output_type": "execute_result"
    }
   ],
   "source": [
    "journey_data['refdriverid'].nunique()"
   ]
  },
  {
   "cell_type": "code",
   "execution_count": 58,
   "id": "706535c4",
   "metadata": {},
   "outputs": [
    {
     "data": {
      "text/plain": [
       "(493, 2)"
      ]
     },
     "execution_count": 58,
     "metadata": {},
     "output_type": "execute_result"
    }
   ],
   "source": [
    "result1.shape"
   ]
  },
  {
   "cell_type": "code",
   "execution_count": 59,
   "id": "519e2894",
   "metadata": {},
   "outputs": [
    {
     "data": {
      "text/plain": [
       "(493, 2)"
      ]
     },
     "execution_count": 59,
     "metadata": {},
     "output_type": "execute_result"
    }
   ],
   "source": [
    "result.shape"
   ]
  },
  {
   "cell_type": "code",
   "execution_count": 60,
   "id": "439547d2",
   "metadata": {},
   "outputs": [
    {
     "data": {
      "text/plain": [
       "(493, 2)"
      ]
     },
     "execution_count": 60,
     "metadata": {},
     "output_type": "execute_result"
    }
   ],
   "source": [
    "result3.shape"
   ]
  },
  {
   "cell_type": "code",
   "execution_count": 61,
   "id": "c2cb4d81",
   "metadata": {},
   "outputs": [],
   "source": [
    "final = pd.merge(result, result1, left_on='refdriverid', right_on='refdriverid', how='left')\n",
    "final = pd.merge(final, result3, left_on='refdriverid', right_on='refdriverid', how='left')\n",
    "final = pd.merge(final, result2, left_on='refdriverid', right_on='refdriverid', how='left')"
   ]
  },
  {
   "cell_type": "code",
   "execution_count": 62,
   "id": "8b164ac7",
   "metadata": {},
   "outputs": [
    {
     "data": {
      "text/plain": [
       "(493, 5)"
      ]
     },
     "execution_count": 62,
     "metadata": {},
     "output_type": "execute_result"
    }
   ],
   "source": [
    "final.shape"
   ]
  },
  {
   "cell_type": "code",
   "execution_count": 63,
   "id": "7d8636f6",
   "metadata": {},
   "outputs": [
    {
     "data": {
      "text/html": [
       "<div>\n",
       "<style scoped>\n",
       "    .dataframe tbody tr th:only-of-type {\n",
       "        vertical-align: middle;\n",
       "    }\n",
       "\n",
       "    .dataframe tbody tr th {\n",
       "        vertical-align: top;\n",
       "    }\n",
       "\n",
       "    .dataframe thead th {\n",
       "        text-align: right;\n",
       "    }\n",
       "</style>\n",
       "<table border=\"1\" class=\"dataframe\">\n",
       "  <thead>\n",
       "    <tr style=\"text-align: right;\">\n",
       "      <th></th>\n",
       "      <th>refdriverid</th>\n",
       "      <th>total_trips</th>\n",
       "      <th>total_fare</th>\n",
       "      <th>total_distance</th>\n",
       "      <th>avg_rating</th>\n",
       "    </tr>\n",
       "  </thead>\n",
       "  <tbody>\n",
       "    <tr>\n",
       "      <th>0</th>\n",
       "      <td>66853db054ec732f348d80c9</td>\n",
       "      <td>8</td>\n",
       "      <td>74.86</td>\n",
       "      <td>53.36</td>\n",
       "      <td>NaN</td>\n",
       "    </tr>\n",
       "    <tr>\n",
       "      <th>1</th>\n",
       "      <td>66acbbed6434034b15ad7f11</td>\n",
       "      <td>7</td>\n",
       "      <td>158.33</td>\n",
       "      <td>69.83</td>\n",
       "      <td>5.0</td>\n",
       "    </tr>\n",
       "    <tr>\n",
       "      <th>2</th>\n",
       "      <td>664743775a8f4c6073a563c5</td>\n",
       "      <td>7</td>\n",
       "      <td>223.73</td>\n",
       "      <td>105.02</td>\n",
       "      <td>5.0</td>\n",
       "    </tr>\n",
       "    <tr>\n",
       "      <th>3</th>\n",
       "      <td>6672da8f4b5168c6b34d41a3</td>\n",
       "      <td>6</td>\n",
       "      <td>274.78</td>\n",
       "      <td>155.03</td>\n",
       "      <td>5.0</td>\n",
       "    </tr>\n",
       "    <tr>\n",
       "      <th>4</th>\n",
       "      <td>669e3330d1f174b6c8f27c41</td>\n",
       "      <td>6</td>\n",
       "      <td>196.62</td>\n",
       "      <td>130.62</td>\n",
       "      <td>5.0</td>\n",
       "    </tr>\n",
       "  </tbody>\n",
       "</table>\n",
       "</div>"
      ],
      "text/plain": [
       "                refdriverid  total_trips  total_fare  total_distance  \\\n",
       "0  66853db054ec732f348d80c9            8       74.86           53.36   \n",
       "1  66acbbed6434034b15ad7f11            7      158.33           69.83   \n",
       "2  664743775a8f4c6073a563c5            7      223.73          105.02   \n",
       "3  6672da8f4b5168c6b34d41a3            6      274.78          155.03   \n",
       "4  669e3330d1f174b6c8f27c41            6      196.62          130.62   \n",
       "\n",
       "   avg_rating  \n",
       "0         NaN  \n",
       "1         5.0  \n",
       "2         5.0  \n",
       "3         5.0  \n",
       "4         5.0  "
      ]
     },
     "execution_count": 63,
     "metadata": {},
     "output_type": "execute_result"
    }
   ],
   "source": [
    "final.head()"
   ]
  },
  {
   "cell_type": "markdown",
   "id": "763398ac",
   "metadata": {},
   "source": [
    "*** distance \n",
    "##Top Tier: Values at or above P95 (107.22) or P99 (167.90)\n",
    "##Bottom Tier: Values at or below P20 (0.0)\n",
    "    \n",
    "*** fare \n",
    "##Top Tier: Values >= P95 = 172.74 (or >= P99 = 253.66 for stricter classification).\n",
    "##Bottom Tier: Values <= P20 = 0.0 (or <= P5 = 0.0)\n",
    "    \n",
    "*** Trips \n",
    "##Top Tier: Values >= P95 = 4.0 (or >= P99 = 6.0 for stricter classification).\n",
    "##Bottom Tier: Values <= P20 = 1.0 (or <= P5 = 1.0)\n",
    "\n",
    "*** Ratings\n",
    "##data too sparse (<30% of drivers have a rating!), better to not consider in defining cohorts \n"
   ]
  },
  {
   "cell_type": "code",
   "execution_count": 64,
   "id": "ed135786",
   "metadata": {},
   "outputs": [],
   "source": [
    "## P95 (not very strict) if strict then P99\n",
    "\n",
    "top_tier_p95 = final[(final['total_trips'] >= 4) & (final['total_fare'] >= 172.74) & (final['total_distance'] >= 107.22)]\n",
    "top_tier_p99 = final[(final['total_trips'] >= 6) & (final['total_fare'] >= 253.66) & (final['total_distance'] >= 167.90)]\n",
    "bottom_tier = final[(final['total_trips'] <= 1.0) & (final['total_fare'] <= 0.0) & (final['total_distance'] <= 0.0)]"
   ]
  },
  {
   "cell_type": "code",
   "execution_count": 65,
   "id": "4692418a",
   "metadata": {},
   "outputs": [
    {
     "data": {
      "text/plain": [
       "(11, 5)"
      ]
     },
     "execution_count": 65,
     "metadata": {},
     "output_type": "execute_result"
    }
   ],
   "source": [
    "top_tier_p95.shape"
   ]
  },
  {
   "cell_type": "code",
   "execution_count": 66,
   "id": "3da3c51c",
   "metadata": {},
   "outputs": [
    {
     "data": {
      "text/plain": [
       "(11, 5)"
      ]
     },
     "execution_count": 66,
     "metadata": {},
     "output_type": "execute_result"
    }
   ],
   "source": [
    "top_tier_p95.shape"
   ]
  },
  {
   "cell_type": "code",
   "execution_count": 67,
   "id": "c2df746c",
   "metadata": {},
   "outputs": [
    {
     "data": {
      "text/plain": [
       "(89, 5)"
      ]
     },
     "execution_count": 67,
     "metadata": {},
     "output_type": "execute_result"
    }
   ],
   "source": [
    "bottom_tier.shape"
   ]
  },
  {
   "cell_type": "code",
   "execution_count": null,
   "id": "c26744b8",
   "metadata": {},
   "outputs": [],
   "source": []
  }
 ],
 "metadata": {
  "kernelspec": {
   "display_name": "01. Python 3.10 (General DS)",
   "language": "python",
   "name": "python310"
  },
  "language_info": {
   "codemirror_mode": {
    "name": "ipython",
    "version": 3
   },
   "file_extension": ".py",
   "mimetype": "text/x-python",
   "name": "python",
   "nbconvert_exporter": "python",
   "pygments_lexer": "ipython3",
   "version": "3.10.8"
  }
 },
 "nbformat": 4,
 "nbformat_minor": 5
}
